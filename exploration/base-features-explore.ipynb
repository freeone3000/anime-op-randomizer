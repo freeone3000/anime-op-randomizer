{
 "cells": [
  {
   "cell_type": "markdown",
   "source": [
    "Install dependencies"
   ],
   "metadata": {
    "collapsed": false
   }
  },
  {
   "cell_type": "code",
   "execution_count": null,
   "outputs": [],
   "source": [
    "!pip install --upgrade -r requirements.txt\n",
    "!sudo apt-get install -y ffmpeg mkvtoolnix libxml2-dev"
   ],
   "metadata": {
    "collapsed": false
   }
  },
  {
   "cell_type": "markdown",
   "source": [
    "Raw version of chapter extraction"
   ],
   "metadata": {
    "collapsed": false
   }
  },
  {
   "cell_type": "code",
   "execution_count": 7,
   "outputs": [
    {
     "name": "stdout",
     "output_type": "stream",
     "text": [
      "Error: Unknown mode '[a-s]_mobile_fighter_g_gundam_-_03_-_beat_the_dragon_gundam__rs2_[0678D2EE].mkv'.\r\n"
     ]
    }
   ],
   "source": [
    "!mkvextract '[a-s]_mobile_fighter_g_gundam_-_03_-_beat_the_dragon_gundam__rs2_[0678D2EE].mkv' chapters chapters.xml"
   ],
   "metadata": {
    "collapsed": false,
    "ExecuteTime": {
     "end_time": "2023-07-27T06:25:21.238478678Z",
     "start_time": "2023-07-27T06:25:21.097138840Z"
    }
   }
  },
  {
   "cell_type": "code",
   "execution_count": 13,
   "outputs": [
    {
     "name": "stdout",
     "output_type": "stream",
     "text": [
      "00:00:00.000000000 Opening\n",
      "00:01:21.000000000 Part A\n",
      "00:11:42.367000000 Part B\n",
      "00:22:17.533000000 Closing\n",
      "00:23:27.500000000 Preview\n"
     ]
    }
   ],
   "source": [
    "from lxml import etree\n",
    "\n",
    "f = open(\"chapters.xml\")\n",
    "doc = etree.parse(\"chapters.xml\")\n",
    "chapters = []\n",
    "for start_time in doc.findall(\".//ChapterAtom\"):\n",
    "    chapter = (start_time.findtext(\"./ChapterTimeStart\"), start_time.findtext(\"./ChapterDisplay/ChapterString\"))\n",
    "    print(chapter[0], chapter[1])\n",
    "    chapters.append(chapter)\n"
   ],
   "metadata": {
    "collapsed": false,
    "ExecuteTime": {
     "end_time": "2023-07-27T06:50:00.047505791Z",
     "start_time": "2023-07-27T06:50:00.005555359Z"
    }
   }
  },
  {
   "cell_type": "code",
   "execution_count": null,
   "outputs": [],
   "source": [],
   "metadata": {
    "collapsed": false
   }
  }
 ],
 "metadata": {
  "kernelspec": {
   "display_name": "Python 3",
   "language": "python",
   "name": "python3"
  },
  "language_info": {
   "codemirror_mode": {
    "name": "ipython",
    "version": 2
   },
   "file_extension": ".py",
   "mimetype": "text/x-python",
   "name": "python",
   "nbconvert_exporter": "python",
   "pygments_lexer": "ipython2",
   "version": "2.7.6"
  }
 },
 "nbformat": 4,
 "nbformat_minor": 0
}
