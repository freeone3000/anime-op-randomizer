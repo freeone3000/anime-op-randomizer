{
 "cells": [
  {
   "cell_type": "markdown",
   "source": [
    "Dependencies"
   ],
   "metadata": {
    "collapsed": false
   }
  },
  {
   "cell_type": "code",
   "execution_count": 11,
   "outputs": [
    {
     "name": "stdout",
     "output_type": "stream",
     "text": [
      "Requirement already satisfied: scenedetect in /home/jasmine/miniforge-pypy3/envs/AnimeOpEdDetector/lib/python3.10/site-packages (from -r requirements.txt (line 1)) (0.6.2)\r\n",
      "Requirement already satisfied: opencv-python in /home/jasmine/miniforge-pypy3/envs/AnimeOpEdDetector/lib/python3.10/site-packages (from -r requirements.txt (line 2)) (4.8.0.74)\r\n",
      "Requirement already satisfied: jupyter in /home/jasmine/miniforge-pypy3/envs/AnimeOpEdDetector/lib/python3.10/site-packages (from -r requirements.txt (line 3)) (1.0.0)\r\n",
      "Requirement already satisfied: scipy in /home/jasmine/miniforge-pypy3/envs/AnimeOpEdDetector/lib/python3.10/site-packages (from -r requirements.txt (line 4)) (1.11.1)\r\n",
      "Requirement already satisfied: numpy in /home/jasmine/miniforge-pypy3/envs/AnimeOpEdDetector/lib/python3.10/site-packages (from -r requirements.txt (line 5)) (1.25.1)\r\n",
      "Requirement already satisfied: matplotlib in /home/jasmine/miniforge-pypy3/envs/AnimeOpEdDetector/lib/python3.10/site-packages (from -r requirements.txt (line 6)) (3.7.2)\r\n",
      "Requirement already satisfied: pymkv==2.0.0 in /home/jasmine/apps/pymkv (from -r requirements.txt (line 7)) (2.0.0)\r\n",
      "Requirement already satisfied: bitmath in /home/jasmine/miniforge-pypy3/envs/AnimeOpEdDetector/lib/python3.10/site-packages (from pymkv==2.0.0->-r requirements.txt (line 7)) (1.3.3.1)\r\n",
      "Requirement already satisfied: iso-639 in /home/jasmine/miniforge-pypy3/envs/AnimeOpEdDetector/lib/python3.10/site-packages (from pymkv==2.0.0->-r requirements.txt (line 7)) (0.4.5)\r\n",
      "Requirement already satisfied: bcp47 in /home/jasmine/miniforge-pypy3/envs/AnimeOpEdDetector/lib/python3.10/site-packages (from pymkv==2.0.0->-r requirements.txt (line 7)) (0.0.4)\r\n",
      "Requirement already satisfied: Click in /home/jasmine/miniforge-pypy3/envs/AnimeOpEdDetector/lib/python3.10/site-packages (from scenedetect->-r requirements.txt (line 1)) (8.1.6)\r\n",
      "Requirement already satisfied: platformdirs in /home/jasmine/miniforge-pypy3/envs/AnimeOpEdDetector/lib/python3.10/site-packages (from scenedetect->-r requirements.txt (line 1)) (3.9.1)\r\n",
      "Requirement already satisfied: tqdm in /home/jasmine/miniforge-pypy3/envs/AnimeOpEdDetector/lib/python3.10/site-packages (from scenedetect->-r requirements.txt (line 1)) (4.65.0)\r\n",
      "Requirement already satisfied: notebook in /home/jasmine/miniforge-pypy3/envs/AnimeOpEdDetector/lib/python3.10/site-packages (from jupyter->-r requirements.txt (line 3)) (7.0.0)\r\n",
      "Requirement already satisfied: qtconsole in /home/jasmine/miniforge-pypy3/envs/AnimeOpEdDetector/lib/python3.10/site-packages (from jupyter->-r requirements.txt (line 3)) (5.4.3)\r\n",
      "Requirement already satisfied: jupyter-console in /home/jasmine/miniforge-pypy3/envs/AnimeOpEdDetector/lib/python3.10/site-packages (from jupyter->-r requirements.txt (line 3)) (6.6.3)\r\n",
      "Requirement already satisfied: nbconvert in /home/jasmine/miniforge-pypy3/envs/AnimeOpEdDetector/lib/python3.10/site-packages (from jupyter->-r requirements.txt (line 3)) (7.7.3)\r\n",
      "Requirement already satisfied: ipykernel in /home/jasmine/miniforge-pypy3/envs/AnimeOpEdDetector/lib/python3.10/site-packages (from jupyter->-r requirements.txt (line 3)) (6.25.0)\r\n",
      "Requirement already satisfied: ipywidgets in /home/jasmine/miniforge-pypy3/envs/AnimeOpEdDetector/lib/python3.10/site-packages (from jupyter->-r requirements.txt (line 3)) (8.0.7)\r\n",
      "Requirement already satisfied: contourpy>=1.0.1 in /home/jasmine/miniforge-pypy3/envs/AnimeOpEdDetector/lib/python3.10/site-packages (from matplotlib->-r requirements.txt (line 6)) (1.1.0)\r\n",
      "Requirement already satisfied: cycler>=0.10 in /home/jasmine/miniforge-pypy3/envs/AnimeOpEdDetector/lib/python3.10/site-packages (from matplotlib->-r requirements.txt (line 6)) (0.11.0)\r\n",
      "Requirement already satisfied: fonttools>=4.22.0 in /home/jasmine/miniforge-pypy3/envs/AnimeOpEdDetector/lib/python3.10/site-packages (from matplotlib->-r requirements.txt (line 6)) (4.41.1)\r\n",
      "Requirement already satisfied: kiwisolver>=1.0.1 in /home/jasmine/miniforge-pypy3/envs/AnimeOpEdDetector/lib/python3.10/site-packages (from matplotlib->-r requirements.txt (line 6)) (1.4.4)\r\n",
      "Requirement already satisfied: packaging>=20.0 in /home/jasmine/miniforge-pypy3/envs/AnimeOpEdDetector/lib/python3.10/site-packages (from matplotlib->-r requirements.txt (line 6)) (23.1)\r\n",
      "Requirement already satisfied: pillow>=6.2.0 in /home/jasmine/miniforge-pypy3/envs/AnimeOpEdDetector/lib/python3.10/site-packages (from matplotlib->-r requirements.txt (line 6)) (10.0.0)\r\n",
      "Requirement already satisfied: pyparsing<3.1,>=2.3.1 in /home/jasmine/miniforge-pypy3/envs/AnimeOpEdDetector/lib/python3.10/site-packages (from matplotlib->-r requirements.txt (line 6)) (3.0.9)\r\n",
      "Requirement already satisfied: python-dateutil>=2.7 in /home/jasmine/miniforge-pypy3/envs/AnimeOpEdDetector/lib/python3.10/site-packages (from matplotlib->-r requirements.txt (line 6)) (2.8.2)\r\n",
      "Requirement already satisfied: six>=1.5 in /home/jasmine/miniforge-pypy3/envs/AnimeOpEdDetector/lib/python3.10/site-packages (from python-dateutil>=2.7->matplotlib->-r requirements.txt (line 6)) (1.16.0)\r\n",
      "Requirement already satisfied: comm>=0.1.1 in /home/jasmine/miniforge-pypy3/envs/AnimeOpEdDetector/lib/python3.10/site-packages (from ipykernel->jupyter->-r requirements.txt (line 3)) (0.1.3)\r\n",
      "Requirement already satisfied: debugpy>=1.6.5 in /home/jasmine/miniforge-pypy3/envs/AnimeOpEdDetector/lib/python3.10/site-packages (from ipykernel->jupyter->-r requirements.txt (line 3)) (1.6.7)\r\n",
      "Requirement already satisfied: ipython>=7.23.1 in /home/jasmine/miniforge-pypy3/envs/AnimeOpEdDetector/lib/python3.10/site-packages (from ipykernel->jupyter->-r requirements.txt (line 3)) (8.14.0)\r\n",
      "Requirement already satisfied: jupyter-client>=6.1.12 in /home/jasmine/miniforge-pypy3/envs/AnimeOpEdDetector/lib/python3.10/site-packages (from ipykernel->jupyter->-r requirements.txt (line 3)) (8.3.0)\r\n",
      "Requirement already satisfied: jupyter-core!=5.0.*,>=4.12 in /home/jasmine/miniforge-pypy3/envs/AnimeOpEdDetector/lib/python3.10/site-packages (from ipykernel->jupyter->-r requirements.txt (line 3)) (5.3.1)\r\n",
      "Requirement already satisfied: matplotlib-inline>=0.1 in /home/jasmine/miniforge-pypy3/envs/AnimeOpEdDetector/lib/python3.10/site-packages (from ipykernel->jupyter->-r requirements.txt (line 3)) (0.1.6)\r\n",
      "Requirement already satisfied: nest-asyncio in /home/jasmine/miniforge-pypy3/envs/AnimeOpEdDetector/lib/python3.10/site-packages (from ipykernel->jupyter->-r requirements.txt (line 3)) (1.5.6)\r\n",
      "Requirement already satisfied: psutil in /home/jasmine/miniforge-pypy3/envs/AnimeOpEdDetector/lib/python3.10/site-packages (from ipykernel->jupyter->-r requirements.txt (line 3)) (5.9.5)\r\n",
      "Requirement already satisfied: pyzmq>=20 in /home/jasmine/miniforge-pypy3/envs/AnimeOpEdDetector/lib/python3.10/site-packages (from ipykernel->jupyter->-r requirements.txt (line 3)) (25.1.0)\r\n",
      "Requirement already satisfied: tornado>=6.1 in /home/jasmine/miniforge-pypy3/envs/AnimeOpEdDetector/lib/python3.10/site-packages (from ipykernel->jupyter->-r requirements.txt (line 3)) (6.3.2)\r\n",
      "Requirement already satisfied: traitlets>=5.4.0 in /home/jasmine/miniforge-pypy3/envs/AnimeOpEdDetector/lib/python3.10/site-packages (from ipykernel->jupyter->-r requirements.txt (line 3)) (5.9.0)\r\n",
      "Requirement already satisfied: widgetsnbextension~=4.0.7 in /home/jasmine/miniforge-pypy3/envs/AnimeOpEdDetector/lib/python3.10/site-packages (from ipywidgets->jupyter->-r requirements.txt (line 3)) (4.0.8)\r\n",
      "Requirement already satisfied: jupyterlab-widgets~=3.0.7 in /home/jasmine/miniforge-pypy3/envs/AnimeOpEdDetector/lib/python3.10/site-packages (from ipywidgets->jupyter->-r requirements.txt (line 3)) (3.0.8)\r\n",
      "Requirement already satisfied: prompt-toolkit>=3.0.30 in /home/jasmine/miniforge-pypy3/envs/AnimeOpEdDetector/lib/python3.10/site-packages (from jupyter-console->jupyter->-r requirements.txt (line 3)) (3.0.39)\r\n",
      "Requirement already satisfied: pygments in /home/jasmine/miniforge-pypy3/envs/AnimeOpEdDetector/lib/python3.10/site-packages (from jupyter-console->jupyter->-r requirements.txt (line 3)) (2.15.1)\r\n",
      "Requirement already satisfied: beautifulsoup4 in /home/jasmine/miniforge-pypy3/envs/AnimeOpEdDetector/lib/python3.10/site-packages (from nbconvert->jupyter->-r requirements.txt (line 3)) (4.12.2)\r\n",
      "Requirement already satisfied: bleach!=5.0.0 in /home/jasmine/miniforge-pypy3/envs/AnimeOpEdDetector/lib/python3.10/site-packages (from nbconvert->jupyter->-r requirements.txt (line 3)) (6.0.0)\r\n",
      "Requirement already satisfied: defusedxml in /home/jasmine/miniforge-pypy3/envs/AnimeOpEdDetector/lib/python3.10/site-packages (from nbconvert->jupyter->-r requirements.txt (line 3)) (0.7.1)\r\n",
      "Requirement already satisfied: jinja2>=3.0 in /home/jasmine/miniforge-pypy3/envs/AnimeOpEdDetector/lib/python3.10/site-packages (from nbconvert->jupyter->-r requirements.txt (line 3)) (3.1.2)\r\n",
      "Requirement already satisfied: jupyterlab-pygments in /home/jasmine/miniforge-pypy3/envs/AnimeOpEdDetector/lib/python3.10/site-packages (from nbconvert->jupyter->-r requirements.txt (line 3)) (0.2.2)\r\n",
      "Requirement already satisfied: markupsafe>=2.0 in /home/jasmine/miniforge-pypy3/envs/AnimeOpEdDetector/lib/python3.10/site-packages (from nbconvert->jupyter->-r requirements.txt (line 3)) (2.1.3)\r\n",
      "Requirement already satisfied: mistune<4,>=2.0.3 in /home/jasmine/miniforge-pypy3/envs/AnimeOpEdDetector/lib/python3.10/site-packages (from nbconvert->jupyter->-r requirements.txt (line 3)) (3.0.1)\r\n",
      "Requirement already satisfied: nbclient>=0.5.0 in /home/jasmine/miniforge-pypy3/envs/AnimeOpEdDetector/lib/python3.10/site-packages (from nbconvert->jupyter->-r requirements.txt (line 3)) (0.8.0)\r\n",
      "Requirement already satisfied: nbformat>=5.7 in /home/jasmine/miniforge-pypy3/envs/AnimeOpEdDetector/lib/python3.10/site-packages (from nbconvert->jupyter->-r requirements.txt (line 3)) (5.9.1)\r\n",
      "Requirement already satisfied: pandocfilters>=1.4.1 in /home/jasmine/miniforge-pypy3/envs/AnimeOpEdDetector/lib/python3.10/site-packages (from nbconvert->jupyter->-r requirements.txt (line 3)) (1.5.0)\r\n",
      "Requirement already satisfied: tinycss2 in /home/jasmine/miniforge-pypy3/envs/AnimeOpEdDetector/lib/python3.10/site-packages (from nbconvert->jupyter->-r requirements.txt (line 3)) (1.2.1)\r\n",
      "Requirement already satisfied: jupyter-server<3,>=2.4.0 in /home/jasmine/miniforge-pypy3/envs/AnimeOpEdDetector/lib/python3.10/site-packages (from notebook->jupyter->-r requirements.txt (line 3)) (2.7.0)\r\n",
      "Requirement already satisfied: jupyterlab-server<3,>=2.22.1 in /home/jasmine/miniforge-pypy3/envs/AnimeOpEdDetector/lib/python3.10/site-packages (from notebook->jupyter->-r requirements.txt (line 3)) (2.24.0)\r\n",
      "Requirement already satisfied: jupyterlab<5,>=4.0.2 in /home/jasmine/miniforge-pypy3/envs/AnimeOpEdDetector/lib/python3.10/site-packages (from notebook->jupyter->-r requirements.txt (line 3)) (4.0.3)\r\n",
      "Requirement already satisfied: notebook-shim<0.3,>=0.2 in /home/jasmine/miniforge-pypy3/envs/AnimeOpEdDetector/lib/python3.10/site-packages (from notebook->jupyter->-r requirements.txt (line 3)) (0.2.3)\r\n",
      "Requirement already satisfied: ipython-genutils in /home/jasmine/miniforge-pypy3/envs/AnimeOpEdDetector/lib/python3.10/site-packages (from qtconsole->jupyter->-r requirements.txt (line 3)) (0.2.0)\r\n",
      "Requirement already satisfied: qtpy>=2.0.1 in /home/jasmine/miniforge-pypy3/envs/AnimeOpEdDetector/lib/python3.10/site-packages (from qtconsole->jupyter->-r requirements.txt (line 3)) (2.3.1)\r\n",
      "Requirement already satisfied: webencodings in /home/jasmine/miniforge-pypy3/envs/AnimeOpEdDetector/lib/python3.10/site-packages (from bleach!=5.0.0->nbconvert->jupyter->-r requirements.txt (line 3)) (0.5.1)\r\n",
      "Requirement already satisfied: backcall in /home/jasmine/miniforge-pypy3/envs/AnimeOpEdDetector/lib/python3.10/site-packages (from ipython>=7.23.1->ipykernel->jupyter->-r requirements.txt (line 3)) (0.2.0)\r\n",
      "Requirement already satisfied: decorator in /home/jasmine/miniforge-pypy3/envs/AnimeOpEdDetector/lib/python3.10/site-packages (from ipython>=7.23.1->ipykernel->jupyter->-r requirements.txt (line 3)) (5.1.1)\r\n",
      "Requirement already satisfied: jedi>=0.16 in /home/jasmine/miniforge-pypy3/envs/AnimeOpEdDetector/lib/python3.10/site-packages (from ipython>=7.23.1->ipykernel->jupyter->-r requirements.txt (line 3)) (0.18.2)\r\n",
      "Requirement already satisfied: pickleshare in /home/jasmine/miniforge-pypy3/envs/AnimeOpEdDetector/lib/python3.10/site-packages (from ipython>=7.23.1->ipykernel->jupyter->-r requirements.txt (line 3)) (0.7.5)\r\n",
      "Requirement already satisfied: stack-data in /home/jasmine/miniforge-pypy3/envs/AnimeOpEdDetector/lib/python3.10/site-packages (from ipython>=7.23.1->ipykernel->jupyter->-r requirements.txt (line 3)) (0.6.2)\r\n",
      "Requirement already satisfied: pexpect>4.3 in /home/jasmine/miniforge-pypy3/envs/AnimeOpEdDetector/lib/python3.10/site-packages (from ipython>=7.23.1->ipykernel->jupyter->-r requirements.txt (line 3)) (4.8.0)\r\n",
      "Requirement already satisfied: anyio>=3.1.0 in /home/jasmine/miniforge-pypy3/envs/AnimeOpEdDetector/lib/python3.10/site-packages (from jupyter-server<3,>=2.4.0->notebook->jupyter->-r requirements.txt (line 3)) (3.7.1)\r\n",
      "Requirement already satisfied: argon2-cffi in /home/jasmine/miniforge-pypy3/envs/AnimeOpEdDetector/lib/python3.10/site-packages (from jupyter-server<3,>=2.4.0->notebook->jupyter->-r requirements.txt (line 3)) (21.3.0)\r\n",
      "Requirement already satisfied: jupyter-events>=0.6.0 in /home/jasmine/miniforge-pypy3/envs/AnimeOpEdDetector/lib/python3.10/site-packages (from jupyter-server<3,>=2.4.0->notebook->jupyter->-r requirements.txt (line 3)) (0.6.3)\r\n",
      "Requirement already satisfied: jupyter-server-terminals in /home/jasmine/miniforge-pypy3/envs/AnimeOpEdDetector/lib/python3.10/site-packages (from jupyter-server<3,>=2.4.0->notebook->jupyter->-r requirements.txt (line 3)) (0.4.4)\r\n",
      "Requirement already satisfied: overrides in /home/jasmine/miniforge-pypy3/envs/AnimeOpEdDetector/lib/python3.10/site-packages (from jupyter-server<3,>=2.4.0->notebook->jupyter->-r requirements.txt (line 3)) (7.3.1)\r\n",
      "Requirement already satisfied: prometheus-client in /home/jasmine/miniforge-pypy3/envs/AnimeOpEdDetector/lib/python3.10/site-packages (from jupyter-server<3,>=2.4.0->notebook->jupyter->-r requirements.txt (line 3)) (0.17.1)\r\n",
      "Requirement already satisfied: send2trash in /home/jasmine/miniforge-pypy3/envs/AnimeOpEdDetector/lib/python3.10/site-packages (from jupyter-server<3,>=2.4.0->notebook->jupyter->-r requirements.txt (line 3)) (1.8.2)\r\n",
      "Requirement already satisfied: terminado>=0.8.3 in /home/jasmine/miniforge-pypy3/envs/AnimeOpEdDetector/lib/python3.10/site-packages (from jupyter-server<3,>=2.4.0->notebook->jupyter->-r requirements.txt (line 3)) (0.17.1)\r\n",
      "Requirement already satisfied: websocket-client in /home/jasmine/miniforge-pypy3/envs/AnimeOpEdDetector/lib/python3.10/site-packages (from jupyter-server<3,>=2.4.0->notebook->jupyter->-r requirements.txt (line 3)) (1.6.1)\r\n",
      "Requirement already satisfied: async-lru>=1.0.0 in /home/jasmine/miniforge-pypy3/envs/AnimeOpEdDetector/lib/python3.10/site-packages (from jupyterlab<5,>=4.0.2->notebook->jupyter->-r requirements.txt (line 3)) (2.0.3)\r\n",
      "Requirement already satisfied: jupyter-lsp>=2.0.0 in /home/jasmine/miniforge-pypy3/envs/AnimeOpEdDetector/lib/python3.10/site-packages (from jupyterlab<5,>=4.0.2->notebook->jupyter->-r requirements.txt (line 3)) (2.2.0)\r\n",
      "Requirement already satisfied: tomli in /home/jasmine/miniforge-pypy3/envs/AnimeOpEdDetector/lib/python3.10/site-packages (from jupyterlab<5,>=4.0.2->notebook->jupyter->-r requirements.txt (line 3)) (2.0.1)\r\n",
      "Requirement already satisfied: babel>=2.10 in /home/jasmine/miniforge-pypy3/envs/AnimeOpEdDetector/lib/python3.10/site-packages (from jupyterlab-server<3,>=2.22.1->notebook->jupyter->-r requirements.txt (line 3)) (2.12.1)\r\n",
      "Requirement already satisfied: json5>=0.9.0 in /home/jasmine/miniforge-pypy3/envs/AnimeOpEdDetector/lib/python3.10/site-packages (from jupyterlab-server<3,>=2.22.1->notebook->jupyter->-r requirements.txt (line 3)) (0.9.14)\r\n",
      "Requirement already satisfied: jsonschema>=4.17.3 in /home/jasmine/miniforge-pypy3/envs/AnimeOpEdDetector/lib/python3.10/site-packages (from jupyterlab-server<3,>=2.22.1->notebook->jupyter->-r requirements.txt (line 3)) (4.18.4)\r\n",
      "Requirement already satisfied: requests>=2.28 in /home/jasmine/miniforge-pypy3/envs/AnimeOpEdDetector/lib/python3.10/site-packages (from jupyterlab-server<3,>=2.22.1->notebook->jupyter->-r requirements.txt (line 3)) (2.31.0)\r\n",
      "Requirement already satisfied: fastjsonschema in /home/jasmine/miniforge-pypy3/envs/AnimeOpEdDetector/lib/python3.10/site-packages (from nbformat>=5.7->nbconvert->jupyter->-r requirements.txt (line 3)) (2.18.0)\r\n",
      "Requirement already satisfied: wcwidth in /home/jasmine/miniforge-pypy3/envs/AnimeOpEdDetector/lib/python3.10/site-packages (from prompt-toolkit>=3.0.30->jupyter-console->jupyter->-r requirements.txt (line 3)) (0.2.6)\r\n",
      "Requirement already satisfied: soupsieve>1.2 in /home/jasmine/miniforge-pypy3/envs/AnimeOpEdDetector/lib/python3.10/site-packages (from beautifulsoup4->nbconvert->jupyter->-r requirements.txt (line 3)) (2.4.1)\r\n",
      "Requirement already satisfied: idna>=2.8 in /home/jasmine/miniforge-pypy3/envs/AnimeOpEdDetector/lib/python3.10/site-packages (from anyio>=3.1.0->jupyter-server<3,>=2.4.0->notebook->jupyter->-r requirements.txt (line 3)) (3.4)\r\n",
      "Requirement already satisfied: sniffio>=1.1 in /home/jasmine/miniforge-pypy3/envs/AnimeOpEdDetector/lib/python3.10/site-packages (from anyio>=3.1.0->jupyter-server<3,>=2.4.0->notebook->jupyter->-r requirements.txt (line 3)) (1.3.0)\r\n",
      "Requirement already satisfied: exceptiongroup in /home/jasmine/miniforge-pypy3/envs/AnimeOpEdDetector/lib/python3.10/site-packages (from anyio>=3.1.0->jupyter-server<3,>=2.4.0->notebook->jupyter->-r requirements.txt (line 3)) (1.1.2)\r\n",
      "Requirement already satisfied: typing-extensions>=4.0.0 in /home/jasmine/miniforge-pypy3/envs/AnimeOpEdDetector/lib/python3.10/site-packages (from async-lru>=1.0.0->jupyterlab<5,>=4.0.2->notebook->jupyter->-r requirements.txt (line 3)) (4.7.1)\r\n",
      "Requirement already satisfied: parso<0.9.0,>=0.8.0 in /home/jasmine/miniforge-pypy3/envs/AnimeOpEdDetector/lib/python3.10/site-packages (from jedi>=0.16->ipython>=7.23.1->ipykernel->jupyter->-r requirements.txt (line 3)) (0.8.3)\r\n",
      "Requirement already satisfied: attrs>=22.2.0 in /home/jasmine/miniforge-pypy3/envs/AnimeOpEdDetector/lib/python3.10/site-packages (from jsonschema>=4.17.3->jupyterlab-server<3,>=2.22.1->notebook->jupyter->-r requirements.txt (line 3)) (23.1.0)\r\n",
      "Requirement already satisfied: jsonschema-specifications>=2023.03.6 in /home/jasmine/miniforge-pypy3/envs/AnimeOpEdDetector/lib/python3.10/site-packages (from jsonschema>=4.17.3->jupyterlab-server<3,>=2.22.1->notebook->jupyter->-r requirements.txt (line 3)) (2023.7.1)\r\n",
      "Requirement already satisfied: referencing>=0.28.4 in /home/jasmine/miniforge-pypy3/envs/AnimeOpEdDetector/lib/python3.10/site-packages (from jsonschema>=4.17.3->jupyterlab-server<3,>=2.22.1->notebook->jupyter->-r requirements.txt (line 3)) (0.30.0)\r\n",
      "Requirement already satisfied: rpds-py>=0.7.1 in /home/jasmine/miniforge-pypy3/envs/AnimeOpEdDetector/lib/python3.10/site-packages (from jsonschema>=4.17.3->jupyterlab-server<3,>=2.22.1->notebook->jupyter->-r requirements.txt (line 3)) (0.9.2)\r\n",
      "Requirement already satisfied: python-json-logger>=2.0.4 in /home/jasmine/miniforge-pypy3/envs/AnimeOpEdDetector/lib/python3.10/site-packages (from jupyter-events>=0.6.0->jupyter-server<3,>=2.4.0->notebook->jupyter->-r requirements.txt (line 3)) (2.0.7)\r\n",
      "Requirement already satisfied: pyyaml>=5.3 in /home/jasmine/miniforge-pypy3/envs/AnimeOpEdDetector/lib/python3.10/site-packages (from jupyter-events>=0.6.0->jupyter-server<3,>=2.4.0->notebook->jupyter->-r requirements.txt (line 3)) (6.0.1)\r\n",
      "Requirement already satisfied: rfc3339-validator in /home/jasmine/miniforge-pypy3/envs/AnimeOpEdDetector/lib/python3.10/site-packages (from jupyter-events>=0.6.0->jupyter-server<3,>=2.4.0->notebook->jupyter->-r requirements.txt (line 3)) (0.1.4)\r\n",
      "Requirement already satisfied: rfc3986-validator>=0.1.1 in /home/jasmine/miniforge-pypy3/envs/AnimeOpEdDetector/lib/python3.10/site-packages (from jupyter-events>=0.6.0->jupyter-server<3,>=2.4.0->notebook->jupyter->-r requirements.txt (line 3)) (0.1.1)\r\n",
      "Requirement already satisfied: ptyprocess>=0.5 in /home/jasmine/miniforge-pypy3/envs/AnimeOpEdDetector/lib/python3.10/site-packages (from pexpect>4.3->ipython>=7.23.1->ipykernel->jupyter->-r requirements.txt (line 3)) (0.7.0)\r\n",
      "Requirement already satisfied: charset-normalizer<4,>=2 in /home/jasmine/miniforge-pypy3/envs/AnimeOpEdDetector/lib/python3.10/site-packages (from requests>=2.28->jupyterlab-server<3,>=2.22.1->notebook->jupyter->-r requirements.txt (line 3)) (3.2.0)\r\n",
      "Requirement already satisfied: urllib3<3,>=1.21.1 in /home/jasmine/miniforge-pypy3/envs/AnimeOpEdDetector/lib/python3.10/site-packages (from requests>=2.28->jupyterlab-server<3,>=2.22.1->notebook->jupyter->-r requirements.txt (line 3)) (2.0.4)\r\n",
      "Requirement already satisfied: certifi>=2017.4.17 in /home/jasmine/miniforge-pypy3/envs/AnimeOpEdDetector/lib/python3.10/site-packages (from requests>=2.28->jupyterlab-server<3,>=2.22.1->notebook->jupyter->-r requirements.txt (line 3)) (2023.7.22)\r\n",
      "Requirement already satisfied: argon2-cffi-bindings in /home/jasmine/miniforge-pypy3/envs/AnimeOpEdDetector/lib/python3.10/site-packages (from argon2-cffi->jupyter-server<3,>=2.4.0->notebook->jupyter->-r requirements.txt (line 3)) (21.2.0)\r\n",
      "Requirement already satisfied: executing>=1.2.0 in /home/jasmine/miniforge-pypy3/envs/AnimeOpEdDetector/lib/python3.10/site-packages (from stack-data->ipython>=7.23.1->ipykernel->jupyter->-r requirements.txt (line 3)) (1.2.0)\r\n",
      "Requirement already satisfied: asttokens>=2.1.0 in /home/jasmine/miniforge-pypy3/envs/AnimeOpEdDetector/lib/python3.10/site-packages (from stack-data->ipython>=7.23.1->ipykernel->jupyter->-r requirements.txt (line 3)) (2.2.1)\r\n",
      "Requirement already satisfied: pure-eval in /home/jasmine/miniforge-pypy3/envs/AnimeOpEdDetector/lib/python3.10/site-packages (from stack-data->ipython>=7.23.1->ipykernel->jupyter->-r requirements.txt (line 3)) (0.2.2)\r\n",
      "Requirement already satisfied: fqdn in /home/jasmine/miniforge-pypy3/envs/AnimeOpEdDetector/lib/python3.10/site-packages (from jsonschema>=4.17.3->jupyterlab-server<3,>=2.22.1->notebook->jupyter->-r requirements.txt (line 3)) (1.5.1)\r\n",
      "Requirement already satisfied: isoduration in /home/jasmine/miniforge-pypy3/envs/AnimeOpEdDetector/lib/python3.10/site-packages (from jsonschema>=4.17.3->jupyterlab-server<3,>=2.22.1->notebook->jupyter->-r requirements.txt (line 3)) (20.11.0)\r\n",
      "Requirement already satisfied: jsonpointer>1.13 in /home/jasmine/miniforge-pypy3/envs/AnimeOpEdDetector/lib/python3.10/site-packages (from jsonschema>=4.17.3->jupyterlab-server<3,>=2.22.1->notebook->jupyter->-r requirements.txt (line 3)) (2.4)\r\n",
      "Requirement already satisfied: uri-template in /home/jasmine/miniforge-pypy3/envs/AnimeOpEdDetector/lib/python3.10/site-packages (from jsonschema>=4.17.3->jupyterlab-server<3,>=2.22.1->notebook->jupyter->-r requirements.txt (line 3)) (1.3.0)\r\n",
      "Requirement already satisfied: webcolors>=1.11 in /home/jasmine/miniforge-pypy3/envs/AnimeOpEdDetector/lib/python3.10/site-packages (from jsonschema>=4.17.3->jupyterlab-server<3,>=2.22.1->notebook->jupyter->-r requirements.txt (line 3)) (1.13)\r\n",
      "Requirement already satisfied: cffi>=1.0.1 in /home/jasmine/miniforge-pypy3/envs/AnimeOpEdDetector/lib/python3.10/site-packages (from argon2-cffi-bindings->argon2-cffi->jupyter-server<3,>=2.4.0->notebook->jupyter->-r requirements.txt (line 3)) (1.15.1)\r\n",
      "Requirement already satisfied: pycparser in /home/jasmine/miniforge-pypy3/envs/AnimeOpEdDetector/lib/python3.10/site-packages (from cffi>=1.0.1->argon2-cffi-bindings->argon2-cffi->jupyter-server<3,>=2.4.0->notebook->jupyter->-r requirements.txt (line 3)) (2.21)\r\n",
      "Requirement already satisfied: arrow>=0.15.0 in /home/jasmine/miniforge-pypy3/envs/AnimeOpEdDetector/lib/python3.10/site-packages (from isoduration->jsonschema>=4.17.3->jupyterlab-server<3,>=2.22.1->notebook->jupyter->-r requirements.txt (line 3)) (1.2.3)\r\n",
      "Reading package lists... Done\r\n",
      "Building dependency tree... Done\r\n",
      "Reading state information... Done\r\n",
      "mkvtoolnix is already the newest version (54.0.0+really52.0.0-3).\r\n",
      "ffmpeg is already the newest version (7:4.3.6-0+deb11u1).\r\n",
      "0 upgraded, 0 newly installed, 0 to remove and 0 not upgraded.\r\n"
     ]
    }
   ],
   "source": [
    "!pip install --upgrade -r requirements.txt\n",
    "!sudo apt-get install -y ffmpeg mkvtoolnix\n"
   ],
   "metadata": {
    "collapsed": false,
    "ExecuteTime": {
     "end_time": "2023-07-26T10:22:38.642083609Z",
     "start_time": "2023-07-26T10:22:35.806239277Z"
    }
   }
  },
  {
   "cell_type": "markdown",
   "source": [
    "Let's extract out the audio, so we have a clean look for our audio processing tools to take a look. (We can also get chapters and subtitles, but, we'll deal with those later!)"
   ],
   "metadata": {
    "collapsed": false
   }
  },
  {
   "cell_type": "code",
   "execution_count": 7,
   "outputs": [
    {
     "name": "stdout",
     "output_type": "stream",
     "text": [
      "2.0.0\n",
      "0 video jpn AVC\n",
      "1 audio eng AAC\n",
      "2 audio jpn AAC\n",
      "3 subtitles eng ASS\n",
      "4 subtitles jpn ASS\n",
      "Created: audio_eng, audio_jpn, subtitles_eng, subtitles_jpn\n"
     ]
    }
   ],
   "source": [
    "fn = \"[a-s]_mobile_fighter_g_gundam_-_03_-_beat_the_dragon_gundam__rs2_[0678D2EE].mkv\"\n",
    "\n",
    "import pymkv\n",
    "from pymkv import MKVFile\n",
    "mkv = MKVFile(fn)\n",
    "found_jpn = False\n",
    "found_eng = False\n",
    "created_folders = []\n",
    "for track in mkv.get_track(None):\n",
    "    print(track.track_id, track.track_type, track.language, track.track_name)\n",
    "    if track.track_type == \"subtitles\" or track.track_type == \"audio\":\n",
    "        if track.language_ietf == \"ja-JP\" or track.language == \"jpn\":\n",
    "            found_jpn = True\n",
    "        elif (track.language_ietf or \"\").startswith(\"en-\") or track.language == \"eng\":\n",
    "            found_eng = True\n",
    "        folder = \"%s_%s\" % (track.track_type, track.language)\n",
    "        track.extract(folder, silent=True)\n",
    "        created_folders.append(folder)\n",
    "print(\"Created: %s\" % (\", \".join(created_folders),))\n"
   ],
   "metadata": {
    "collapsed": false,
    "ExecuteTime": {
     "end_time": "2023-07-26T10:32:34.259617712Z",
     "start_time": "2023-07-26T10:32:33.728697945Z"
    }
   }
  },
  {
   "cell_type": "code",
   "execution_count": null,
   "outputs": [],
   "source": [],
   "metadata": {
    "collapsed": false
   }
  }
 ],
 "metadata": {
  "kernelspec": {
   "display_name": "Python 3",
   "language": "python",
   "name": "python3"
  },
  "language_info": {
   "codemirror_mode": {
    "name": "ipython",
    "version": 2
   },
   "file_extension": ".py",
   "mimetype": "text/x-python",
   "name": "python",
   "nbconvert_exporter": "python",
   "pygments_lexer": "ipython2",
   "version": "2.7.6"
  }
 },
 "nbformat": 4,
 "nbformat_minor": 0
}
